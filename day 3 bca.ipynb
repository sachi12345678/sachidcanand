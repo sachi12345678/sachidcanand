{
 "cells": [
  {
   "cell_type": "code",
   "execution_count": 9,
   "id": "0b765e4b",
   "metadata": {},
   "outputs": [],
   "source": [
    "def add(a,b):\n",
    "    s=a+b\n",
    "    return s"
   ]
  },
  {
   "cell_type": "code",
   "execution_count": 10,
   "id": "595e5a7b",
   "metadata": {},
   "outputs": [
    {
     "data": {
      "text/plain": [
       "5"
      ]
     },
     "execution_count": 10,
     "metadata": {},
     "output_type": "execute_result"
    }
   ],
   "source": [
    "add(3,2)"
   ]
  },
  {
   "cell_type": "code",
   "execution_count": 11,
   "id": "86f010ca",
   "metadata": {},
   "outputs": [
    {
     "name": "stdout",
     "output_type": "stream",
     "text": [
      "Ener the 1st num56\n",
      "Ener the 2nd num96\n",
      "sum is 152\n"
     ]
    }
   ],
   "source": [
    "x=int(input('Ener the 1st num'))\n",
    "y=int(input('Ener the 2nd num'))\n",
    "print('sum is',add(x,y))"
   ]
  },
  {
   "cell_type": "code",
   "execution_count": 17,
   "id": "52471da3",
   "metadata": {},
   "outputs": [],
   "source": [
    "def largest(x,y,z):\n",
    "    if x>y and x>z:\n",
    "        return x\n",
    "    elif y>x and y>z:\n",
    "        return y\n",
    "    else:\n",
    "        return z"
   ]
  },
  {
   "cell_type": "code",
   "execution_count": 18,
   "id": "399450af",
   "metadata": {},
   "outputs": [
    {
     "data": {
      "text/plain": [
       "889"
      ]
     },
     "execution_count": 18,
     "metadata": {},
     "output_type": "execute_result"
    }
   ],
   "source": [
    "largest(889,562,369)"
   ]
  },
  {
   "cell_type": "code",
   "execution_count": 1,
   "id": "2942bbc2",
   "metadata": {},
   "outputs": [
    {
     "name": "stdout",
     "output_type": "stream",
     "text": [
      "10\n"
     ]
    }
   ],
   "source": [
    "scores = [7,8,9,10,11,11]\n",
    "sc_set = set(scores)\n",
    "top= max(sc_set)\n",
    "sc_set.remove(top)\n",
    "print(max(sc_set))"
   ]
  },
  {
   "cell_type": "code",
   "execution_count": 2,
   "id": "ff7c6ec2",
   "metadata": {},
   "outputs": [
    {
     "data": {
      "text/plain": [
       "11"
      ]
     },
     "execution_count": 2,
     "metadata": {},
     "output_type": "execute_result"
    }
   ],
   "source": [
    "top"
   ]
  },
  {
   "cell_type": "code",
   "execution_count": 4,
   "id": "7ae7207c",
   "metadata": {},
   "outputs": [
    {
     "name": "stdout",
     "output_type": "stream",
     "text": [
      "{8, 5, 6}\n"
     ]
    }
   ],
   "source": [
    "s1={5,6,8,9,4,7}\n",
    "s2={6,3,22,5,8}\n",
    "if s1.intersection(s2):\n",
    "  print(s1&s2)\n",
    "else:\n",
    "    print(s1.union(s2))"
   ]
  },
  {
   "cell_type": "code",
   "execution_count": 5,
   "id": "73cd847f",
   "metadata": {},
   "outputs": [
    {
     "name": "stdout",
     "output_type": "stream",
     "text": [
      "Enter the name to be updatedjohn\n",
      "{'john': [88, 77, 99], 'peter': [87, 55, 96], 'ram': [58, 55, 43], 'meena': [63, 79, 85]}\n"
     ]
    }
   ],
   "source": [
    "D={'john':[25,32,43],'peter':[87,55,96],'ram':[58,55,43],'meena':[63,79,85]}\n",
    "n= input('Enter the name to be updated')\n",
    "if n in D:\n",
    "    D[n]=[88,77,99]\n",
    "    print(D)\n",
    "else:\n",
    "    print('name not found')"
   ]
  },
  {
   "cell_type": "code",
   "execution_count": null,
   "id": "40587752",
   "metadata": {},
   "outputs": [],
   "source": []
  }
 ],
 "metadata": {
  "kernelspec": {
   "display_name": "Python 3 (ipykernel)",
   "language": "python",
   "name": "python3"
  },
  "language_info": {
   "codemirror_mode": {
    "name": "ipython",
    "version": 3
   },
   "file_extension": ".py",
   "mimetype": "text/x-python",
   "name": "python",
   "nbconvert_exporter": "python",
   "pygments_lexer": "ipython3",
   "version": "3.11.5"
  }
 },
 "nbformat": 4,
 "nbformat_minor": 5
}
